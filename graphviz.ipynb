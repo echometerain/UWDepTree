{
 "cells": [
  {
   "cell_type": "code",
   "execution_count": 1,
   "metadata": {},
   "outputs": [],
   "source": [
    "# Choose term!\n",
    "# 1 => century\n",
    "# 25 => year\n",
    "# 1 => starting month\n",
    "term = \"1251\""
   ]
  },
  {
   "cell_type": "code",
   "execution_count": 2,
   "metadata": {},
   "outputs": [
    {
     "name": "stderr",
     "output_type": "stream",
     "text": [
      "100%|█████████▉| 2193/2200 [00:26<00:00, 85.95it/s]"
     ]
    }
   ],
   "source": [
    "# Get all classes for the term!\n",
    "import requests\n",
    "from requests.adapters import HTTPAdapter, Retry\n",
    "from rich import print # type: ignore (pretty print)\n",
    "from tqdm import tqdm # type: ignore (progress bar)\n",
    "\n",
    "# set up http request session configuration\n",
    "s = requests.Session()\n",
    "retries = Retry(total=5,\n",
    "                backoff_factor=0.1,\n",
    "                status_forcelist=[ 500, 502, 503, 504 ])\n",
    "s.mount('http://', HTTPAdapter(max_retries=retries))\n",
    "headers = {\"accept\": \"application/json\", \"x-api-key\": \"CF6E31D9F7C849E0B66B2C3C7FD18DFF\"}\n",
    "\n",
    "# get all class codes for the term\n",
    "class_codes = s.get(f\"https://openapi.data.uwaterloo.ca/v3/ClassSchedules/{term}\", headers=headers).json()\n",
    "classes = {}\n",
    "pbar = tqdm(total=(len(class_codes)+1))\n",
    "for cc in class_codes:\n",
    "    pbar.update(n=1)\n",
    "    class_req = s.get(f\"https://openapi.data.uwaterloo.ca/v3/Courses/{term}/{cc}\", headers=headers)\n",
    "    if class_req.status_code == 404:\n",
    "        continue\n",
    "    \n",
    "    # prepare data for dataframe\n",
    "    class_obj = class_req.json()[0]\n",
    "    for key, val in class_obj.items():\n",
    "        if key not in classes.keys():\n",
    "            classes[key] = [val]\n",
    "        else:\n",
    "            classes[key].append(val)"
   ]
  },
  {
   "cell_type": "code",
   "execution_count": 3,
   "metadata": {},
   "outputs": [],
   "source": [
    "# Generate and parse table of dependencies!\n",
    "import polars as pl # type: ignore\n",
    "import re # regex ~~~oOoOoOoOo~~~\n",
    "\n",
    "# clean up data\n",
    "df = pl.from_dict(classes)\n",
    "df = df.drop([\"courseOfferNumber\", \"termCode\", \"termName\", \"gradingBasis\", \"courseComponentCode\",\n",
    "              \"associatedAcademicCareer\", \"associatedAcademicOrgCode\", \"enrollConsentCode\", \n",
    "              \"enrollConsentDescription\", \"dropConsentCode\", \"dropConsentDescription\"])\n",
    "df = df.with_columns(pl.concat_str([pl.col(\"subjectCode\"), pl.col(\"catalogNumber\")]).alias(\"courseCode\"))\n",
    "# dirty hack for title fallback\n",
    "df.update(pl.from_dict({\"title\": [row[\"title\"] or row[\"descriptionAbbreviated\"] or row[\"description\"]\n",
    "                                  for row in df.iter_rows(named=True)]}))\n",
    "df = df.drop([\"description\", \"descriptionAbbreviated\", \"catalogNumber\", \"subjectCode\"])\n",
    "# prepare dict of dependencies (polars doesn't support row-by-row editing)\n",
    "reqs = {\"Prereq\": [], \"Coreq\": [], \"Antireq\": []}\n",
    "\n",
    "# eldrich regex magic for parsing poorly formatted dependencies\n",
    "split = r\"(?=\\b\\w+:)\" # split on word followed by colon\n",
    "matcher = r\"[A-Z]{2,4}\\s*\\d{3}[A-Z]?\" # match subject code (the \"MATH 115\" in \"Prereq: MATH 115\")\n",
    "text_matcher = r\"[A-Z]{2,4}(?=\\s*\\d{3}[A-Z]?)\" # match catalog number (the \"MATH\" in \"MATH115\")\n",
    "num_matcher = r\"(?<=,)\\s*\\d{3}[A-Z]?\" # match catalog number (the \"115\" in \"MATH115\")\n",
    "\n",
    "# parse dependencies for each class (row)\n",
    "for row in df.iter_rows(named=True):\n",
    "    # fill row with empty arrays\n",
    "    # preserves structure when nothing gets written\n",
    "    col = \"requirementsDescription\"\n",
    "    for req in reqs.keys():\n",
    "        reqs[req].append([])\n",
    "    if row[col] is None:\n",
    "        continue\n",
    "    # split on key from `reqs` followed by colon\n",
    "    for req_group in re.split(split, row[col]):\n",
    "        req_type = \"\"\n",
    "        for req in reqs.keys(): # find req type (eg. \"Antireq\")\n",
    "            if req_group.startswith(req + \":\"):\n",
    "                req_type = req\n",
    "                break\n",
    "        if req_type == \"\":\n",
    "            continue\n",
    "        # match course codes (eg. \"MATH 115\") and append to reqs\n",
    "        reqs[req_type][-1] = [x.replace(\" \", \"\") for x in re.findall(matcher, req_group)]\n",
    "        \n",
    "        # this is to handle stuff like \"Prereq: MATH 115, 116\" where the subject code is not repeated\n",
    "        match_text = re.finditer(text_matcher, req_group)\n",
    "        match_num = re.finditer(num_matcher, req_group)\n",
    "        if match_text is None or match_num is None:\n",
    "            continue\n",
    "        text_list = list(match_text) # why are iterators this hard to work with wtf\n",
    "        num_list = list(match_num)\n",
    "        t_idx = 0\n",
    "        for find_n in num_list:\n",
    "            # find the last valid subject code before the current number\n",
    "            while t_idx+1 < len(text_list) and text_list[t_idx+1].start(0) <= find_n.start(0):\n",
    "                t_idx += 1\n",
    "            reqs[req_type][-1].append(text_list[t_idx].group(0) + find_n.group(0).replace(\" \", \"\"))\n",
    "\n",
    "# add extracted dependencies to dataframe\n",
    "df = pl.concat([df, pl.from_dict(reqs)], how=\"horizontal\")\n",
    "\n",
    "# df.write_json(\"uw_classes.json\")\n",
    "# print(pl.Series(\"types\", type_list).value_counts())\n",
    "# pl.Config.set_tbl_rows(100)\n",
    "# print(df.get_column(\"associatedAcademicGroupCode\").value_counts())"
   ]
  },
  {
   "cell_type": "code",
   "execution_count": 5,
   "metadata": {},
   "outputs": [
    {
     "data": {
      "text/plain": [
       "'Waterloo Course Dependency Tree.gv.svg'"
      ]
     },
     "execution_count": 5,
     "metadata": {},
     "output_type": "execute_result"
    }
   ],
   "source": [
    "# Draw dependency tree!\n",
    "import graphviz # type: ignore\n",
    "import textwrap\n",
    "import html\n",
    "import random\n",
    "gr = graphviz.Digraph(f\"Waterloo Course Dependency Tree\", format=\"svg\")\n",
    "gr.graph_attr[\"rankdir\"] = \"LR\" # left to right\n",
    "# gr.graph_attr[\"concentrate\"] = \"true\"\n",
    "gr.graph_attr[\"overlap\"] = \"false\" # make sure nodes don't overlap (does nothing in dot mode)\n",
    "# gr.graph_attr[\"nodesep\"] = \"1\"\n",
    "gr.graph_attr[\"ranksep\"] = \"3\" # nodesep but horizontal\n",
    "gr.node_attr[\"shape\"] = \"Mrecord\" # looks like a uml cell\n",
    "gr.node_attr[\"style\"] = \"bold\"\n",
    "# gr.edge_attr[\"style\"] = \"bold\"\n",
    "\n",
    "# make the prereq arrows distinguishable from each other\n",
    "arrow_colors = {\"Prereq\": [\"green\", \"darkgreen\", \"darkolivegreen\", \"darkolivegreen4\", \"forestgreen\", \"green4\", \"olivedrab\"],\n",
    "                \"Coreq\": [\"blue\"], \"Antireq\": [\"red\"]}\n",
    "# UWaterloo department colors\n",
    "dept_colors = {\"ENG\": \"purple3\", \"MAT\": \"deeppink\", \"ENV\": \"forestgreen\", \"ART\": \"darkorange\",\n",
    "               \"AHS\": \"darkturquoise\", \"SCI\": \"dodgerblue3\"}\n",
    "\n",
    "# add nodes and edges to graph\n",
    "for row in df.iter_rows(named=True):\n",
    "    node_color = (dept_colors[row[\"associatedAcademicGroupCode\"]] if \n",
    "            row[\"associatedAcademicGroupCode\"] in dept_colors.keys() else \"black\")\n",
    "    # <B> => bold, <BR/> => newline\n",
    "    node_label = f\"<<B>{row[\"courseCode\"]}</B>|{html.escape(textwrap.fill(row[\"title\"], 20)).replace(\"\\n\", \"<BR/>\")}>\"\n",
    "    gr.node(row[\"courseCode\"], label=node_label, color=node_color)\n",
    "for row in df.iter_rows(named=True):\n",
    "    for req in reqs.keys():\n",
    "        for course in row[req]:\n",
    "            # randomize prereq arrow color\n",
    "            edge_color = arrow_colors[req][random.randint(0, len(arrow_colors[req])-1)]\n",
    "            gr.edge(course, row[\"courseCode\"], color=edge_color)\n",
    "gr.render()"
   ]
  }
 ],
 "metadata": {
  "kernelspec": {
   "display_name": "gc",
   "language": "python",
   "name": "python3"
  },
  "language_info": {
   "codemirror_mode": {
    "name": "ipython",
    "version": 3
   },
   "file_extension": ".py",
   "mimetype": "text/x-python",
   "name": "python",
   "nbconvert_exporter": "python",
   "pygments_lexer": "ipython3",
   "version": "3.13.1"
  }
 },
 "nbformat": 4,
 "nbformat_minor": 2
}
